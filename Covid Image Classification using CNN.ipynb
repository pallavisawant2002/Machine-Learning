{
 "cells": [
  {
   "cell_type": "code",
   "execution_count": 3,
   "metadata": {
    "id": "ZWwLki4mTl-1"
   },
   "outputs": [
    {
     "name": "stdout",
     "output_type": "stream",
     "text": [
      "WARNING:tensorflow:From C:\\Users\\Shree\\anaconda3\\Lib\\site-packages\\keras\\src\\losses.py:2976: The name tf.losses.sparse_softmax_cross_entropy is deprecated. Please use tf.compat.v1.losses.sparse_softmax_cross_entropy instead.\n",
      "\n"
     ]
    }
   ],
   "source": [
    "import numpy as np\n",
    "import tensorflow as tf\n",
    "import matplotlib.pyplot as plt\n",
    "from tensorflow.keras.models import Sequential\n",
    "from tensorflow.keras.layers import Conv2D, MaxPool2D, Flatten, Dense\n",
    "from tensorflow.keras.preprocessing.image import ImageDataGenerator\n",
    "import warnings\n",
    "warnings.filterwarnings(\"ignore\")"
   ]
  },
  {
   "cell_type": "code",
   "execution_count": 5,
   "metadata": {
    "id": "6aFVvXE_Tp5S"
   },
   "outputs": [],
   "source": [
    "train_dir=r\"C:\\Users\\Shree\\Downloads\\Covid19-dataset\\train\"\n",
    "test_dir=r\"C:\\Users\\Shree\\Downloads\\Covid19-dataset\\test\""
   ]
  },
  {
   "cell_type": "code",
   "execution_count": 6,
   "metadata": {
    "id": "BYv2SrlEVDLU"
   },
   "outputs": [],
   "source": [
    "train_generator=ImageDataGenerator(\n",
    "    rescale=1.0/255,\n",
    "    rotation_range=20,\n",
    "    width_shift_range=0.2,\n",
    "    height_shift_range=0.2,\n",
    "    horizontal_flip=True,\n",
    "    shear_range=0.2,\n",
    "    zoom_range=0.2\n",
    ")"
   ]
  },
  {
   "cell_type": "code",
   "execution_count": 7,
   "metadata": {
    "id": "ONdD5Nq9V3il"
   },
   "outputs": [],
   "source": [
    "test_generator=ImageDataGenerator(rescale=1.0/255)"
   ]
  },
  {
   "cell_type": "code",
   "execution_count": 8,
   "metadata": {
    "id": "P1_ZL6etWIQO"
   },
   "outputs": [],
   "source": [
    "width,height=512,512,\n",
    "batch_size=32"
   ]
  },
  {
   "cell_type": "code",
   "execution_count": 9,
   "metadata": {
    "colab": {
     "base_uri": "https://localhost:8080/",
     "height": 425
    },
    "id": "klfUI-2lWSrZ",
    "outputId": "0727d548-e9fe-4608-a0ab-146a885d15a2"
   },
   "outputs": [
    {
     "name": "stdout",
     "output_type": "stream",
     "text": [
      "Found 251 images belonging to 3 classes.\n"
     ]
    }
   ],
   "source": [
    "X_train=train_generator.flow_from_directory(\n",
    "    train_dir,\n",
    "    target_size=(width,height),\n",
    "    batch_size=batch_size,\n",
    "    class_mode='categorical'\n",
    ")"
   ]
  },
  {
   "cell_type": "code",
   "execution_count": 10,
   "metadata": {},
   "outputs": [
    {
     "name": "stdout",
     "output_type": "stream",
     "text": [
      "Found 66 images belonging to 3 classes.\n"
     ]
    }
   ],
   "source": [
    "X_test=test_generator.flow_from_directory(\n",
    "    test_dir,\n",
    "    target_size=(width,height),\n",
    "    batch_size=batch_size,\n",
    "    class_mode='categorical'\n",
    ")"
   ]
  },
  {
   "cell_type": "code",
   "execution_count": 11,
   "metadata": {
    "colab": {
     "base_uri": "https://localhost:8080/",
     "height": 245
    },
    "id": "7TL_tlWlW4mZ",
    "outputId": "96670905-4ae4-4a59-d850-65312b0507de"
   },
   "outputs": [
    {
     "name": "stdout",
     "output_type": "stream",
     "text": [
      "WARNING:tensorflow:From C:\\Users\\Shree\\anaconda3\\Lib\\site-packages\\keras\\src\\backend.py:873: The name tf.get_default_graph is deprecated. Please use tf.compat.v1.get_default_graph instead.\n",
      "\n",
      "WARNING:tensorflow:From C:\\Users\\Shree\\anaconda3\\Lib\\site-packages\\keras\\src\\layers\\pooling\\max_pooling2d.py:161: The name tf.nn.max_pool is deprecated. Please use tf.nn.max_pool2d instead.\n",
      "\n"
     ]
    }
   ],
   "source": [
    "model=Sequential([\n",
    "    Conv2D(32,(3,3), activation=\"relu\", input_shape=(width,height,3)),\n",
    "    MaxPool2D((2,2)),\n",
    "    Conv2D(64,(3,3), activation=\"relu\"),\n",
    "    MaxPool2D((2,2)),\n",
    "    Conv2D(128,(3,3), activation=\"relu\"),\n",
    "    MaxPool2D((2,2)),\n",
    "    Conv2D(128,(3,3), activation=\"relu\"),\n",
    "    MaxPool2D((2,2)),\n",
    "    Flatten(),\n",
    "    Dense(256,activation=\"relu\"),\n",
    "    Dense(128,activation=\"relu\"),\n",
    "    Dense(3,activation=\"softmax\")\n",
    "    ])\n"
   ]
  },
  {
   "cell_type": "code",
   "execution_count": 12,
   "metadata": {
    "colab": {
     "base_uri": "https://localhost:8080/",
     "height": 175
    },
    "id": "u0V47LDDY4up",
    "outputId": "5ae0bc5b-87d5-40f7-bcef-994583a8adb7"
   },
   "outputs": [
    {
     "name": "stdout",
     "output_type": "stream",
     "text": [
      "WARNING:tensorflow:From C:\\Users\\Shree\\anaconda3\\Lib\\site-packages\\keras\\src\\optimizers\\__init__.py:309: The name tf.train.Optimizer is deprecated. Please use tf.compat.v1.train.Optimizer instead.\n",
      "\n"
     ]
    }
   ],
   "source": [
    "model.compile(optimizer=\"adam\", loss=\"categorical_crossentropy\",metrics=[\"accuracy\"])"
   ]
  },
  {
   "cell_type": "code",
   "execution_count": 13,
   "metadata": {
    "colab": {
     "base_uri": "https://localhost:8080/",
     "height": 175
    },
    "id": "DxhX5M6JdTM6",
    "outputId": "29cff8b4-ed41-4fe8-c217-33e615cdfa8d"
   },
   "outputs": [
    {
     "name": "stdout",
     "output_type": "stream",
     "text": [
      "Epoch 1/30\n",
      "WARNING:tensorflow:From C:\\Users\\Shree\\anaconda3\\Lib\\site-packages\\keras\\src\\utils\\tf_utils.py:492: The name tf.ragged.RaggedTensorValue is deprecated. Please use tf.compat.v1.ragged.RaggedTensorValue instead.\n",
      "\n",
      "WARNING:tensorflow:From C:\\Users\\Shree\\anaconda3\\Lib\\site-packages\\keras\\src\\engine\\base_layer_utils.py:384: The name tf.executing_eagerly_outside_functions is deprecated. Please use tf.compat.v1.executing_eagerly_outside_functions instead.\n",
      "\n",
      "8/8 [==============================] - 204s 23s/step - loss: 1.9453 - accuracy: 0.3386 - val_loss: 1.0808 - val_accuracy: 0.3939\n",
      "Epoch 2/30\n",
      "8/8 [==============================] - 143s 18s/step - loss: 0.9654 - accuracy: 0.5299 - val_loss: 1.4193 - val_accuracy: 0.3788\n",
      "Epoch 3/30\n",
      "8/8 [==============================] - 130s 16s/step - loss: 0.7457 - accuracy: 0.6932 - val_loss: 1.9829 - val_accuracy: 0.5909\n",
      "Epoch 4/30\n",
      "8/8 [==============================] - 147s 19s/step - loss: 0.5740 - accuracy: 0.7849 - val_loss: 0.9942 - val_accuracy: 0.6667\n",
      "Epoch 5/30\n",
      "8/8 [==============================] - 129s 16s/step - loss: 0.6168 - accuracy: 0.7251 - val_loss: 1.0065 - val_accuracy: 0.6515\n",
      "Epoch 6/30\n",
      "8/8 [==============================] - 145s 18s/step - loss: 0.5190 - accuracy: 0.7928 - val_loss: 0.9410 - val_accuracy: 0.6364\n",
      "Epoch 7/30\n",
      "8/8 [==============================] - 128s 16s/step - loss: 0.4387 - accuracy: 0.7928 - val_loss: 0.6910 - val_accuracy: 0.7727\n",
      "Epoch 8/30\n",
      "8/8 [==============================] - 128s 16s/step - loss: 0.5895 - accuracy: 0.7610 - val_loss: 0.9263 - val_accuracy: 0.6212\n",
      "Epoch 9/30\n",
      "8/8 [==============================] - 126s 15s/step - loss: 0.5704 - accuracy: 0.7689 - val_loss: 1.0090 - val_accuracy: 0.6364\n",
      "Epoch 10/30\n",
      "8/8 [==============================] - 128s 16s/step - loss: 0.5294 - accuracy: 0.7729 - val_loss: 1.0634 - val_accuracy: 0.6364\n",
      "Epoch 11/30\n",
      "8/8 [==============================] - 134s 17s/step - loss: 0.4245 - accuracy: 0.8008 - val_loss: 1.0843 - val_accuracy: 0.6212\n",
      "Epoch 12/30\n",
      "8/8 [==============================] - 137s 17s/step - loss: 0.4269 - accuracy: 0.8526 - val_loss: 1.0515 - val_accuracy: 0.6364\n",
      "Epoch 13/30\n",
      "8/8 [==============================] - 129s 16s/step - loss: 0.4776 - accuracy: 0.7968 - val_loss: 0.9624 - val_accuracy: 0.5909\n",
      "Epoch 14/30\n",
      "8/8 [==============================] - 128s 16s/step - loss: 0.3685 - accuracy: 0.8606 - val_loss: 0.8546 - val_accuracy: 0.7273\n",
      "Epoch 15/30\n",
      "8/8 [==============================] - 128s 16s/step - loss: 0.3799 - accuracy: 0.8645 - val_loss: 0.8859 - val_accuracy: 0.6970\n",
      "Epoch 16/30\n",
      "8/8 [==============================] - 132s 17s/step - loss: 0.4891 - accuracy: 0.8088 - val_loss: 0.9300 - val_accuracy: 0.6970\n",
      "Epoch 17/30\n",
      "8/8 [==============================] - 127s 16s/step - loss: 0.4092 - accuracy: 0.8327 - val_loss: 0.7377 - val_accuracy: 0.7121\n",
      "Epoch 18/30\n",
      "8/8 [==============================] - 134s 17s/step - loss: 0.3837 - accuracy: 0.8645 - val_loss: 0.5293 - val_accuracy: 0.7879\n",
      "Epoch 19/30\n",
      "8/8 [==============================] - 134s 16s/step - loss: 0.2806 - accuracy: 0.8884 - val_loss: 0.5874 - val_accuracy: 0.7121\n",
      "Epoch 20/30\n",
      "8/8 [==============================] - 136s 17s/step - loss: 0.3542 - accuracy: 0.8606 - val_loss: 0.4842 - val_accuracy: 0.8182\n",
      "Epoch 21/30\n",
      "8/8 [==============================] - 137s 17s/step - loss: 0.3533 - accuracy: 0.8367 - val_loss: 0.4585 - val_accuracy: 0.7879\n",
      "Epoch 22/30\n",
      "8/8 [==============================] - 129s 16s/step - loss: 0.3578 - accuracy: 0.8566 - val_loss: 0.4860 - val_accuracy: 0.7576\n",
      "Epoch 23/30\n",
      "8/8 [==============================] - 162s 21s/step - loss: 0.2649 - accuracy: 0.8964 - val_loss: 0.4458 - val_accuracy: 0.7727\n",
      "Epoch 24/30\n",
      "8/8 [==============================] - 165s 19s/step - loss: 0.2958 - accuracy: 0.9163 - val_loss: 0.5815 - val_accuracy: 0.7576\n",
      "Epoch 25/30\n",
      "8/8 [==============================] - 150s 17s/step - loss: 0.2730 - accuracy: 0.8884 - val_loss: 0.5197 - val_accuracy: 0.7424\n",
      "Epoch 26/30\n",
      "8/8 [==============================] - 152s 17s/step - loss: 0.3175 - accuracy: 0.8645 - val_loss: 0.4415 - val_accuracy: 0.8333\n",
      "Epoch 27/30\n",
      "8/8 [==============================] - 137s 16s/step - loss: 0.3228 - accuracy: 0.8964 - val_loss: 0.5404 - val_accuracy: 0.7879\n",
      "Epoch 28/30\n",
      "8/8 [==============================] - 151s 18s/step - loss: 0.3221 - accuracy: 0.8805 - val_loss: 0.5175 - val_accuracy: 0.8030\n",
      "Epoch 29/30\n",
      "8/8 [==============================] - 153s 18s/step - loss: 0.2951 - accuracy: 0.9084 - val_loss: 0.5356 - val_accuracy: 0.7576\n",
      "Epoch 30/30\n",
      "8/8 [==============================] - 149s 18s/step - loss: 0.2943 - accuracy: 0.8725 - val_loss: 0.5955 - val_accuracy: 0.7576\n"
     ]
    }
   ],
   "source": [
    "history=model.fit(X_train, epochs=30, batch_size=batch_size, validation_data=X_test)"
   ]
  },
  {
   "cell_type": "code",
   "execution_count": 14,
   "metadata": {
    "colab": {
     "base_uri": "https://localhost:8080/",
     "height": 245
    },
    "id": "2A8icyuXgCLK",
    "outputId": "a5e0efd7-7ea6-45f7-d24f-efb90fdaf290"
   },
   "outputs": [
    {
     "data": {
      "text/plain": [
       "<matplotlib.legend.Legend at 0x197183a4f50>"
      ]
     },
     "execution_count": 14,
     "metadata": {},
     "output_type": "execute_result"
    },
    {
     "data": {
      "image/png": "[encoded data removed]",
      "text/plain": [
       "<Figure size 640x480 with 1 Axes>"
      ]
     },
     "metadata": {},
     "output_type": "display_data"
    }
   ],
   "source": [
    "plt.plot(history.history[\"accuracy\"], label=\"Training Accuracy\")\n",
    "plt.plot(history.history[\"val_accuracy\"], label=\"Validation Accuracy\")\n",
    "plt.xlabel(\"Epochs\")\n",
    "plt.ylabel(\"Accuracy\")\n",
    "plt.title(\"Accuracy\")\n",
    "plt.legend()"
   ]
  },
  {
   "cell_type": "code",
   "execution_count": null,
   "metadata": {
    "id": "bA3A_6oXguTq"
   },
   "outputs": [],
   "source": []
  },
  {
   "cell_type": "code",
   "execution_count": 15,
   "metadata": {
    "colab": {
     "base_uri": "https://localhost:8080/",
     "height": 245
    },
    "id": "FHPtqBzpg9gY",
    "outputId": "4618f449-8acd-46d1-cc1e-e492c8b39997"
   },
   "outputs": [
    {
     "data": {
      "text/plain": [
       "<matplotlib.legend.Legend at 0x19719c71390>"
      ]
     },
     "execution_count": 15,
     "metadata": {},
     "output_type": "execute_result"
    },
    {
     "data": {
      "image/png": "[encoded data removed]",
      "text/plain": [
       "<Figure size 640x480 with 1 Axes>"
      ]
     },
     "metadata": {},
     "output_type": "display_data"
    }
   ],
   "source": [
    "plt.plot(history.history[\"loss\"], label=\"Training Loss\")\n",
    "plt.plot(history.history[\"val_loss\"],label=\"Validation Loss\")\n",
    "plt.xlabel(\"Epochs\")\n",
    "plt.ylabel(\"Loss\")\n",
    "plt.title(\"Loss\")\n",
    "plt.legend()"
   ]
  },
  {
   "cell_type": "code",
   "execution_count": 16,
   "metadata": {
    "colab": {
     "base_uri": "https://localhost:8080/",
     "height": 210
    },
    "id": "CNnm2yS-hVf7",
    "outputId": "90e60942-231e-4e20-9410-bb0d8e4b4175"
   },
   "outputs": [
    {
     "name": "stdout",
     "output_type": "stream",
     "text": [
      "Class Names {0: 'Covid', 1: 'Normal', 2: 'Viral Pneumonia'}\n"
     ]
    }
   ],
   "source": [
    "class_names=X_test.class_indices\n",
    "classes={value:key for key,value in class_names.items()}\n",
    "print(\"Class Names\", classes)"
   ]
  },
  {
   "cell_type": "code",
   "execution_count": 17,
   "metadata": {
    "id": "YVitDSpmh102"
   },
   "outputs": [],
   "source": [
    "from tensorflow.keras.preprocessing import image"
   ]
  },
  {
   "cell_type": "code",
   "execution_count": 23,
   "metadata": {
    "colab": {
     "base_uri": "https://localhost:8080/",
     "height": 314
    },
    "id": "etVH2v4KiC7d",
    "outputId": "4ffe6a1e-7d25-4686-8e2a-48684abe43a4"
   },
   "outputs": [],
   "source": [
    "img=image.load_img(r\"C:\\Users\\Shree\\Downloads\\Covid19-dataset\\test\\Covid\\0100.jpeg\", target_size=(width,height))"
   ]
  },
  {
   "cell_type": "code",
   "execution_count": 24,
   "metadata": {
    "colab": {
     "base_uri": "https://localhost:8080/",
     "height": 175
    },
    "id": "E2TEkZQZiVL_",
    "outputId": "b303b6fa-a12c-44e9-a0ff-7120724774f2"
   },
   "outputs": [],
   "source": [
    "img_arr=image.img_to_array(img)"
   ]
  },
  {
   "cell_type": "code",
   "execution_count": 25,
   "metadata": {
    "colab": {
     "base_uri": "https://localhost:8080/",
     "height": 175
    },
    "id": "o36IoWxnioTj",
    "outputId": "7eaf3eba-d8a2-42ba-8a63-777523a3ca78"
   },
   "outputs": [],
   "source": [
    "img_arr=np.expand_dims(img_arr, axis=0)"
   ]
  },
  {
   "cell_type": "code",
   "execution_count": 26,
   "metadata": {
    "colab": {
     "base_uri": "https://localhost:8080/",
     "height": 175
    },
    "id": "MpYRKMICi3oo",
    "outputId": "e65c5551-f7ae-4d29-f7a2-df04867b8ba4"
   },
   "outputs": [],
   "source": [
    "img_arr=img_arr / 255."
   ]
  },
  {
   "cell_type": "code",
   "execution_count": 29,
   "metadata": {},
   "outputs": [
    {
     "name": "stdout",
     "output_type": "stream",
     "text": [
      "1/1 [==============================] - 0s 93ms/step\n"
     ]
    },
    {
     "data": {
      "text/plain": [
       "array([[0.9593081 , 0.02251404, 0.0181779 ]], dtype=float32)"
      ]
     },
     "execution_count": 29,
     "metadata": {},
     "output_type": "execute_result"
    }
   ],
   "source": [
    "model.predict(img_arr)"
   ]
  },
  {
   "cell_type": "code",
   "execution_count": 30,
   "metadata": {
    "colab": {
     "base_uri": "https://localhost:8080/",
     "height": 175
    },
    "id": "N_GDhFKWjCVp",
    "outputId": "5d079a3d-6d63-4709-9b10-1a2ae4c0a642"
   },
   "outputs": [
    {
     "name": "stdout",
     "output_type": "stream",
     "text": [
      "1/1 [==============================] - 0s 109ms/step\n"
     ]
    }
   ],
   "source": [
    "pred=model.predict(img_arr)"
   ]
  },
  {
   "cell_type": "code",
   "execution_count": 31,
   "metadata": {
    "id": "U-unnkQjjJP3"
   },
   "outputs": [
    {
     "data": {
      "text/plain": [
       "0"
      ]
     },
     "execution_count": 31,
     "metadata": {},
     "output_type": "execute_result"
    }
   ],
   "source": [
    "np.argmax(pred)"
   ]
  },
  {
   "cell_type": "code",
   "execution_count": 32,
   "metadata": {},
   "outputs": [
    {
     "name": "stdout",
     "output_type": "stream",
     "text": [
      "The given image is of class: Covid\n"
     ]
    }
   ],
   "source": [
    "print(\"The given image is of class:\", classes[np.argmax(pred)])"
   ]
  }
 ],
 "metadata": {
  "colab": {
   "provenance": []
  },
  "kernelspec": {
   "display_name": "Python 3 (ipykernel)",
   "language": "python",
   "name": "python3"
  },
  "language_info": {
   "codemirror_mode": {
    "name": "ipython",
    "version": 3
   },
   "file_extension": ".py",
   "mimetype": "text/x-python",
   "name": "python",
   "nbconvert_exporter": "python",
   "pygments_lexer": "ipython3",
   "version": "3.11.5"
  }
 },
 "nbformat": 4,
 "nbformat_minor": 1
}
